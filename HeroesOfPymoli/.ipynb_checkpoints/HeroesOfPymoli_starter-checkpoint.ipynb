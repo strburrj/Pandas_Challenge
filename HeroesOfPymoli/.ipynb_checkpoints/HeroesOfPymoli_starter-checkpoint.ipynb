{
 "cells": [
  {
   "cell_type": "markdown",
   "metadata": {},
   "source": [
    "### Note\n",
    "* Instructions have been included for each segment. You do not have to follow them exactly, but they are included to help you think through the steps."
   ]
  },
  {
   "cell_type": "code",
   "execution_count": 1,
   "metadata": {},
   "outputs": [],
   "source": [
    "# Dependencies and Setup\n",
    "import pandas as pd\n",
    "\n",
    "# File to Load (Remember to Change These)\n",
    "file_to_load = \"Resources/purchase_data.csv\"\n",
    "\n",
    "# Read Purchasing File and store into Pandas data frame\n",
    "purchase_data = pd.read_csv(file_to_load)"
   ]
  },
  {
   "cell_type": "markdown",
   "metadata": {},
   "source": [
    "## Player Count"
   ]
  },
  {
   "cell_type": "markdown",
   "metadata": {},
   "source": [
    "* Display the total number of players\n"
   ]
  },
  {
   "cell_type": "code",
   "execution_count": 2,
   "metadata": {},
   "outputs": [
    {
     "data": {
      "text/html": [
       "<div>\n",
       "<style scoped>\n",
       "    .dataframe tbody tr th:only-of-type {\n",
       "        vertical-align: middle;\n",
       "    }\n",
       "\n",
       "    .dataframe tbody tr th {\n",
       "        vertical-align: top;\n",
       "    }\n",
       "\n",
       "    .dataframe thead th {\n",
       "        text-align: right;\n",
       "    }\n",
       "</style>\n",
       "<table border=\"1\" class=\"dataframe\">\n",
       "  <thead>\n",
       "    <tr style=\"text-align: right;\">\n",
       "      <th></th>\n",
       "      <th>Total Players</th>\n",
       "    </tr>\n",
       "  </thead>\n",
       "  <tbody>\n",
       "    <tr>\n",
       "      <td>0</td>\n",
       "      <td>576</td>\n",
       "    </tr>\n",
       "  </tbody>\n",
       "</table>\n",
       "</div>"
      ],
      "text/plain": [
       "   Total Players\n",
       "0            576"
      ]
     },
     "execution_count": 2,
     "metadata": {},
     "output_type": "execute_result"
    }
   ],
   "source": [
    "total_players = len(purchase_data[\"SN\"].value_counts())\n",
    "\n",
    "player_df = pd.DataFrame({\"Total Players\":[total_players]})\n",
    "player_df"
   ]
  },
  {
   "cell_type": "markdown",
   "metadata": {},
   "source": [
    "## Purchasing Analysis (Total)"
   ]
  },
  {
   "cell_type": "markdown",
   "metadata": {},
   "source": [
    "* Run basic calculations to obtain number of unique items, average price, etc.\n",
    "\n",
    "\n",
    "* Create a summary data frame to hold the results\n",
    "\n",
    "\n",
    "* Optional: give the displayed data cleaner formatting\n",
    "\n",
    "\n",
    "* Display the summary data frame\n"
   ]
  },
  {
   "cell_type": "code",
   "execution_count": 4,
   "metadata": {
    "scrolled": true
   },
   "outputs": [
    {
     "data": {
      "text/html": [
       "<style  type=\"text/css\" >\n",
       "</style><table id=\"T_4f14079c_1b97_11ea_b7f8_dca904822558\" ><thead>    <tr>        <th class=\"blank level0\" ></th>        <th class=\"col_heading level0 col0\" >Number of Unique Items</th>        <th class=\"col_heading level0 col1\" >Average Price</th>        <th class=\"col_heading level0 col2\" >Number of Purchases</th>        <th class=\"col_heading level0 col3\" >Total Revenue</th>    </tr></thead><tbody>\n",
       "                <tr>\n",
       "                        <th id=\"T_4f14079c_1b97_11ea_b7f8_dca904822558level0_row0\" class=\"row_heading level0 row0\" >0</th>\n",
       "                        <td id=\"T_4f14079c_1b97_11ea_b7f8_dca904822558row0_col0\" class=\"data row0 col0\" >183</td>\n",
       "                        <td id=\"T_4f14079c_1b97_11ea_b7f8_dca904822558row0_col1\" class=\"data row0 col1\" >$3.05</td>\n",
       "                        <td id=\"T_4f14079c_1b97_11ea_b7f8_dca904822558row0_col2\" class=\"data row0 col2\" >780</td>\n",
       "                        <td id=\"T_4f14079c_1b97_11ea_b7f8_dca904822558row0_col3\" class=\"data row0 col3\" >$2,379.77</td>\n",
       "            </tr>\n",
       "    </tbody></table>"
      ],
      "text/plain": [
       "<pandas.io.formats.style.Styler at 0x11457d550>"
      ]
     },
     "execution_count": 4,
     "metadata": {},
     "output_type": "execute_result"
    }
   ],
   "source": [
    "unique_items = len((purchase_data[\"Item ID\"]).unique())\n",
    "\n",
    "average_price = (purchase_data[\"Price\"]).mean()\n",
    "\n",
    "number_of_purchases = (purchase_data[\"Purchase ID\"]).count()\n",
    "\n",
    "total_revenue = (purchase_data[\"Price\"]).sum()\n",
    "\n",
    "summary_df = pd.DataFrame({\"Number of Unique Items\": [unique_items],\n",
    "                          \"Average Price\": [average_price],\n",
    "                          \"Number of Purchases\": [number_of_purchases],\n",
    "                          \"Total Revenue\": [total_revenue]})\n",
    "\n",
    "summary_df.style.format({'Average Price':\"${:,.2f}\",\n",
    "                        'Total Revenue':\"${:,.2f}\"})"
   ]
  },
  {
   "cell_type": "markdown",
   "metadata": {},
   "source": [
    "## Gender Demographics"
   ]
  },
  {
   "cell_type": "markdown",
   "metadata": {},
   "source": [
    "* Percentage and Count of Male Players\n",
    "\n",
    "\n",
    "* Percentage and Count of Female Players\n",
    "\n",
    "\n",
    "* Percentage and Count of Other / Non-Disclosed\n",
    "\n",
    "\n"
   ]
  },
  {
   "cell_type": "code",
   "execution_count": 10,
   "metadata": {},
   "outputs": [
    {
     "data": {
      "text/html": [
       "<style  type=\"text/css\" >\n",
       "</style><table id=\"T_763e6f96_1ba2_11ea_b7f8_dca904822558\" ><thead>    <tr>        <th class=\"blank level0\" ></th>        <th class=\"col_heading level0 col0\" >Percentage of Players</th>        <th class=\"col_heading level0 col1\" >Total Count</th>    </tr></thead><tbody>\n",
       "                <tr>\n",
       "                        <th id=\"T_763e6f96_1ba2_11ea_b7f8_dca904822558level0_row0\" class=\"row_heading level0 row0\" >Male</th>\n",
       "                        <td id=\"T_763e6f96_1ba2_11ea_b7f8_dca904822558row0_col0\" class=\"data row0 col0\" >84.03</td>\n",
       "                        <td id=\"T_763e6f96_1ba2_11ea_b7f8_dca904822558row0_col1\" class=\"data row0 col1\" >484</td>\n",
       "            </tr>\n",
       "            <tr>\n",
       "                        <th id=\"T_763e6f96_1ba2_11ea_b7f8_dca904822558level0_row1\" class=\"row_heading level0 row1\" >Female</th>\n",
       "                        <td id=\"T_763e6f96_1ba2_11ea_b7f8_dca904822558row1_col0\" class=\"data row1 col0\" >14.06</td>\n",
       "                        <td id=\"T_763e6f96_1ba2_11ea_b7f8_dca904822558row1_col1\" class=\"data row1 col1\" >81</td>\n",
       "            </tr>\n",
       "            <tr>\n",
       "                        <th id=\"T_763e6f96_1ba2_11ea_b7f8_dca904822558level0_row2\" class=\"row_heading level0 row2\" >Other / Non-Disclosed</th>\n",
       "                        <td id=\"T_763e6f96_1ba2_11ea_b7f8_dca904822558row2_col0\" class=\"data row2 col0\" >1.91</td>\n",
       "                        <td id=\"T_763e6f96_1ba2_11ea_b7f8_dca904822558row2_col1\" class=\"data row2 col1\" >11</td>\n",
       "            </tr>\n",
       "    </tbody></table>"
      ],
      "text/plain": [
       "<pandas.io.formats.style.Styler at 0x1145e1390>"
      ]
     },
     "execution_count": 10,
     "metadata": {},
     "output_type": "execute_result"
    }
   ],
   "source": [
    "gender = purchase_data.groupby(\"Gender\")\n",
    "\n",
    "total_gender = gender.nunique()[\"SN\"]\n",
    "\n",
    "percentage_of_players = total_gender / total_players * 100\n",
    "\n",
    "gender_df = pd.DataFrame({\"Percentage of Players\": percentage_of_players, \"Total Count\": total_gender})\n",
    "\n",
    "gender_df.index.name = None\n",
    "\n",
    "gender_df.sort_values([\"Total Count\"], ascending = False).style.format({\"Percentage of Players\":\"{:.2f}\"})\n"
   ]
  },
  {
   "cell_type": "markdown",
   "metadata": {},
   "source": [
    "\n",
    "## Purchasing Analysis (Gender)"
   ]
  },
  {
   "cell_type": "markdown",
   "metadata": {},
   "source": [
    "* Run basic calculations to obtain purchase count, avg. purchase price, avg. purchase total per person etc. by gender\n",
    "\n",
    "\n",
    "\n",
    "\n",
    "* Create a summary data frame to hold the results\n",
    "\n",
    "\n",
    "* Optional: give the displayed data cleaner formatting\n",
    "\n",
    "\n",
    "* Display the summary data frame"
   ]
  },
  {
   "cell_type": "code",
   "execution_count": 14,
   "metadata": {},
   "outputs": [
    {
     "data": {
      "text/html": [
       "<style  type=\"text/css\" >\n",
       "</style><table id=\"T_e24285a6_1ba7_11ea_b7f8_dca904822558\" ><thead>    <tr>        <th class=\"blank level0\" ></th>        <th class=\"col_heading level0 col0\" >Purchase Count</th>        <th class=\"col_heading level0 col1\" >Average Purchase Price</th>        <th class=\"col_heading level0 col2\" >Average Purchase Value</th>        <th class=\"col_heading level0 col3\" >Average Purchase Total per Person</th>    </tr>    <tr>        <th class=\"index_name level0\" >Gender</th>        <th class=\"blank\" ></th>        <th class=\"blank\" ></th>        <th class=\"blank\" ></th>        <th class=\"blank\" ></th>    </tr></thead><tbody>\n",
       "                <tr>\n",
       "                        <th id=\"T_e24285a6_1ba7_11ea_b7f8_dca904822558level0_row0\" class=\"row_heading level0 row0\" >Female</th>\n",
       "                        <td id=\"T_e24285a6_1ba7_11ea_b7f8_dca904822558row0_col0\" class=\"data row0 col0\" >113</td>\n",
       "                        <td id=\"T_e24285a6_1ba7_11ea_b7f8_dca904822558row0_col1\" class=\"data row0 col1\" >$3.20</td>\n",
       "                        <td id=\"T_e24285a6_1ba7_11ea_b7f8_dca904822558row0_col2\" class=\"data row0 col2\" >$361.94</td>\n",
       "                        <td id=\"T_e24285a6_1ba7_11ea_b7f8_dca904822558row0_col3\" class=\"data row0 col3\" >$4.47</td>\n",
       "            </tr>\n",
       "            <tr>\n",
       "                        <th id=\"T_e24285a6_1ba7_11ea_b7f8_dca904822558level0_row1\" class=\"row_heading level0 row1\" >Male</th>\n",
       "                        <td id=\"T_e24285a6_1ba7_11ea_b7f8_dca904822558row1_col0\" class=\"data row1 col0\" >652</td>\n",
       "                        <td id=\"T_e24285a6_1ba7_11ea_b7f8_dca904822558row1_col1\" class=\"data row1 col1\" >$3.02</td>\n",
       "                        <td id=\"T_e24285a6_1ba7_11ea_b7f8_dca904822558row1_col2\" class=\"data row1 col2\" >$1,967.64</td>\n",
       "                        <td id=\"T_e24285a6_1ba7_11ea_b7f8_dca904822558row1_col3\" class=\"data row1 col3\" >$4.07</td>\n",
       "            </tr>\n",
       "            <tr>\n",
       "                        <th id=\"T_e24285a6_1ba7_11ea_b7f8_dca904822558level0_row2\" class=\"row_heading level0 row2\" >Other / Non-Disclosed</th>\n",
       "                        <td id=\"T_e24285a6_1ba7_11ea_b7f8_dca904822558row2_col0\" class=\"data row2 col0\" >15</td>\n",
       "                        <td id=\"T_e24285a6_1ba7_11ea_b7f8_dca904822558row2_col1\" class=\"data row2 col1\" >$3.35</td>\n",
       "                        <td id=\"T_e24285a6_1ba7_11ea_b7f8_dca904822558row2_col2\" class=\"data row2 col2\" >$50.19</td>\n",
       "                        <td id=\"T_e24285a6_1ba7_11ea_b7f8_dca904822558row2_col3\" class=\"data row2 col3\" >$4.56</td>\n",
       "            </tr>\n",
       "    </tbody></table>"
      ],
      "text/plain": [
       "<pandas.io.formats.style.Styler at 0x1151e5a50>"
      ]
     },
     "execution_count": 14,
     "metadata": {},
     "output_type": "execute_result"
    }
   ],
   "source": [
    "purchase_count = gender[\"Purchase ID\"].count()\n",
    "\n",
    "avg_pprice = gender[\"Price\"].mean()\n",
    "\n",
    "avg_pvalue = gender[\"Price\"].sum()\n",
    "\n",
    "avg_purchase_total_per_person = avg_pvalue / total_gender\n",
    "\n",
    "gender_purchase_df = pd.DataFrame({\"Purchase Count\": purchase_count,\n",
    "                                  \"Average Purchase Price\": avg_pprice,\n",
    "                                  \"Average Purchase Value\": avg_pvalue,\n",
    "                                  \"Average Purchase Total per Person\": avg_purchase_total_per_person})\n",
    "\n",
    "gender_purchase_df.index.name = \"Gender\"\n",
    "\n",
    "gender_purchase_df.style.format({\"Average Purchase Value\":\"${:,.2f}\",\n",
    "                                \"Average Purchase Price\":\"${:,.2f}\",\n",
    "                                \"Average Purchase Total per Person\":\"${:,.2f}\"})\n"
   ]
  },
  {
   "cell_type": "markdown",
   "metadata": {},
   "source": [
    "## Age Demographics"
   ]
  },
  {
   "cell_type": "markdown",
   "metadata": {},
   "source": [
    "* Establish bins for ages\n",
    "\n",
    "\n",
    "* Categorize the existing players using the age bins. Hint: use pd.cut()\n",
    "\n",
    "\n",
    "* Calculate the numbers and percentages by age group\n",
    "\n",
    "\n",
    "* Create a summary data frame to hold the results\n",
    "\n",
    "\n",
    "* Optional: round the percentage column to two decimal points\n",
    "\n",
    "\n",
    "* Display Age Demographics Table\n"
   ]
  },
  {
   "cell_type": "code",
   "execution_count": 19,
   "metadata": {},
   "outputs": [
    {
     "data": {
      "text/html": [
       "<style  type=\"text/css\" >\n",
       "</style><table id=\"T_aa1aeb64_1c6a_11ea_b7f8_dca904822558\" ><thead>    <tr>        <th class=\"blank level0\" ></th>        <th class=\"col_heading level0 col0\" >Percentage of Players</th>        <th class=\"col_heading level0 col1\" >Total Count</th>    </tr></thead><tbody>\n",
       "                <tr>\n",
       "                        <th id=\"T_aa1aeb64_1c6a_11ea_b7f8_dca904822558level0_row0\" class=\"row_heading level0 row0\" ><10</th>\n",
       "                        <td id=\"T_aa1aeb64_1c6a_11ea_b7f8_dca904822558row0_col0\" class=\"data row0 col0\" >2.95</td>\n",
       "                        <td id=\"T_aa1aeb64_1c6a_11ea_b7f8_dca904822558row0_col1\" class=\"data row0 col1\" >17</td>\n",
       "            </tr>\n",
       "            <tr>\n",
       "                        <th id=\"T_aa1aeb64_1c6a_11ea_b7f8_dca904822558level0_row1\" class=\"row_heading level0 row1\" >10-14</th>\n",
       "                        <td id=\"T_aa1aeb64_1c6a_11ea_b7f8_dca904822558row1_col0\" class=\"data row1 col0\" >3.82</td>\n",
       "                        <td id=\"T_aa1aeb64_1c6a_11ea_b7f8_dca904822558row1_col1\" class=\"data row1 col1\" >22</td>\n",
       "            </tr>\n",
       "            <tr>\n",
       "                        <th id=\"T_aa1aeb64_1c6a_11ea_b7f8_dca904822558level0_row2\" class=\"row_heading level0 row2\" >15-19</th>\n",
       "                        <td id=\"T_aa1aeb64_1c6a_11ea_b7f8_dca904822558row2_col0\" class=\"data row2 col0\" >18.58</td>\n",
       "                        <td id=\"T_aa1aeb64_1c6a_11ea_b7f8_dca904822558row2_col1\" class=\"data row2 col1\" >107</td>\n",
       "            </tr>\n",
       "            <tr>\n",
       "                        <th id=\"T_aa1aeb64_1c6a_11ea_b7f8_dca904822558level0_row3\" class=\"row_heading level0 row3\" >20-24</th>\n",
       "                        <td id=\"T_aa1aeb64_1c6a_11ea_b7f8_dca904822558row3_col0\" class=\"data row3 col0\" >44.79</td>\n",
       "                        <td id=\"T_aa1aeb64_1c6a_11ea_b7f8_dca904822558row3_col1\" class=\"data row3 col1\" >258</td>\n",
       "            </tr>\n",
       "            <tr>\n",
       "                        <th id=\"T_aa1aeb64_1c6a_11ea_b7f8_dca904822558level0_row4\" class=\"row_heading level0 row4\" >25-29</th>\n",
       "                        <td id=\"T_aa1aeb64_1c6a_11ea_b7f8_dca904822558row4_col0\" class=\"data row4 col0\" >13.37</td>\n",
       "                        <td id=\"T_aa1aeb64_1c6a_11ea_b7f8_dca904822558row4_col1\" class=\"data row4 col1\" >77</td>\n",
       "            </tr>\n",
       "            <tr>\n",
       "                        <th id=\"T_aa1aeb64_1c6a_11ea_b7f8_dca904822558level0_row5\" class=\"row_heading level0 row5\" >30-34</th>\n",
       "                        <td id=\"T_aa1aeb64_1c6a_11ea_b7f8_dca904822558row5_col0\" class=\"data row5 col0\" >9.03</td>\n",
       "                        <td id=\"T_aa1aeb64_1c6a_11ea_b7f8_dca904822558row5_col1\" class=\"data row5 col1\" >52</td>\n",
       "            </tr>\n",
       "            <tr>\n",
       "                        <th id=\"T_aa1aeb64_1c6a_11ea_b7f8_dca904822558level0_row6\" class=\"row_heading level0 row6\" >35-39</th>\n",
       "                        <td id=\"T_aa1aeb64_1c6a_11ea_b7f8_dca904822558row6_col0\" class=\"data row6 col0\" >5.38</td>\n",
       "                        <td id=\"T_aa1aeb64_1c6a_11ea_b7f8_dca904822558row6_col1\" class=\"data row6 col1\" >31</td>\n",
       "            </tr>\n",
       "            <tr>\n",
       "                        <th id=\"T_aa1aeb64_1c6a_11ea_b7f8_dca904822558level0_row7\" class=\"row_heading level0 row7\" >40+</th>\n",
       "                        <td id=\"T_aa1aeb64_1c6a_11ea_b7f8_dca904822558row7_col0\" class=\"data row7 col0\" >2.08</td>\n",
       "                        <td id=\"T_aa1aeb64_1c6a_11ea_b7f8_dca904822558row7_col1\" class=\"data row7 col1\" >12</td>\n",
       "            </tr>\n",
       "    </tbody></table>"
      ],
      "text/plain": [
       "<pandas.io.formats.style.Styler at 0x112c41390>"
      ]
     },
     "execution_count": 19,
     "metadata": {},
     "output_type": "execute_result"
    }
   ],
   "source": [
    "age_bins = [0,9.90, 14.90, 19.90, 24.90, 29.90, 34.90, 39.90, 99999]\n",
    "group_names = [\"<10\", \"10-14\", \"15-19\", \"20-24\", \"25-29\", \"30-34\", \"35-39\", \"40+\"]\n",
    "\n",
    "purchase_data[\"Age Group\"] = pd.cut(purchase_data[\"Age\"], age_bins, labels=group_names)\n",
    "purchase_data\n",
    "\n",
    "age_grouped = purchase_data.groupby(\"Age Group\")\n",
    "\n",
    "total_count = age_grouped[\"SN\"].nunique()\n",
    "\n",
    "percent_age = (total_count/total_players) * 100\n",
    "\n",
    "age_demo = pd.DataFrame ({\"Percentage of Players\": percent_age, \"Total Count\": total_count})\n",
    "\n",
    "age_demo.index.name = None \n",
    "\n",
    "age_demo.style.format({\"Percentage of Players\":\"{:.2f}\"})"
   ]
  },
  {
   "cell_type": "markdown",
   "metadata": {},
   "source": [
    "## Purchasing Analysis (Age)"
   ]
  },
  {
   "cell_type": "markdown",
   "metadata": {},
   "source": [
    "* Bin the purchase_data data frame by age\n",
    "\n",
    "\n",
    "* Run basic calculations to obtain purchase count, avg. purchase price, avg. purchase total per person etc. in the table below\n",
    "\n",
    "\n",
    "* Create a summary data frame to hold the results\n",
    "\n",
    "\n",
    "* Optional: give the displayed data cleaner formatting\n",
    "\n",
    "\n",
    "* Display the summary data frame"
   ]
  },
  {
   "cell_type": "code",
   "execution_count": 17,
   "metadata": {},
   "outputs": [
    {
     "data": {
      "text/html": [
       "<style  type=\"text/css\" >\n",
       "</style><table id=\"T_bdb8377e_1c35_11ea_b7f8_dca904822558\" ><thead>    <tr>        <th class=\"blank level0\" ></th>        <th class=\"col_heading level0 col0\" >Purchase Count</th>        <th class=\"col_heading level0 col1\" >Average Purchase Price</th>        <th class=\"col_heading level0 col2\" >Total Purchase Value</th>        <th class=\"col_heading level0 col3\" >Avg Total Purchase per Person</th>    </tr></thead><tbody>\n",
       "                <tr>\n",
       "                        <th id=\"T_bdb8377e_1c35_11ea_b7f8_dca904822558level0_row0\" class=\"row_heading level0 row0\" ><10</th>\n",
       "                        <td id=\"T_bdb8377e_1c35_11ea_b7f8_dca904822558row0_col0\" class=\"data row0 col0\" >23</td>\n",
       "                        <td id=\"T_bdb8377e_1c35_11ea_b7f8_dca904822558row0_col1\" class=\"data row0 col1\" >$3.35</td>\n",
       "                        <td id=\"T_bdb8377e_1c35_11ea_b7f8_dca904822558row0_col2\" class=\"data row0 col2\" >$77.13</td>\n",
       "                        <td id=\"T_bdb8377e_1c35_11ea_b7f8_dca904822558row0_col3\" class=\"data row0 col3\" >$4.54</td>\n",
       "            </tr>\n",
       "            <tr>\n",
       "                        <th id=\"T_bdb8377e_1c35_11ea_b7f8_dca904822558level0_row1\" class=\"row_heading level0 row1\" >10-14</th>\n",
       "                        <td id=\"T_bdb8377e_1c35_11ea_b7f8_dca904822558row1_col0\" class=\"data row1 col0\" >28</td>\n",
       "                        <td id=\"T_bdb8377e_1c35_11ea_b7f8_dca904822558row1_col1\" class=\"data row1 col1\" >$2.96</td>\n",
       "                        <td id=\"T_bdb8377e_1c35_11ea_b7f8_dca904822558row1_col2\" class=\"data row1 col2\" >$82.78</td>\n",
       "                        <td id=\"T_bdb8377e_1c35_11ea_b7f8_dca904822558row1_col3\" class=\"data row1 col3\" >$3.76</td>\n",
       "            </tr>\n",
       "            <tr>\n",
       "                        <th id=\"T_bdb8377e_1c35_11ea_b7f8_dca904822558level0_row2\" class=\"row_heading level0 row2\" >15-19</th>\n",
       "                        <td id=\"T_bdb8377e_1c35_11ea_b7f8_dca904822558row2_col0\" class=\"data row2 col0\" >136</td>\n",
       "                        <td id=\"T_bdb8377e_1c35_11ea_b7f8_dca904822558row2_col1\" class=\"data row2 col1\" >$3.04</td>\n",
       "                        <td id=\"T_bdb8377e_1c35_11ea_b7f8_dca904822558row2_col2\" class=\"data row2 col2\" >$412.89</td>\n",
       "                        <td id=\"T_bdb8377e_1c35_11ea_b7f8_dca904822558row2_col3\" class=\"data row2 col3\" >$3.86</td>\n",
       "            </tr>\n",
       "            <tr>\n",
       "                        <th id=\"T_bdb8377e_1c35_11ea_b7f8_dca904822558level0_row3\" class=\"row_heading level0 row3\" >20-24</th>\n",
       "                        <td id=\"T_bdb8377e_1c35_11ea_b7f8_dca904822558row3_col0\" class=\"data row3 col0\" >365</td>\n",
       "                        <td id=\"T_bdb8377e_1c35_11ea_b7f8_dca904822558row3_col1\" class=\"data row3 col1\" >$3.05</td>\n",
       "                        <td id=\"T_bdb8377e_1c35_11ea_b7f8_dca904822558row3_col2\" class=\"data row3 col2\" >$1114.06</td>\n",
       "                        <td id=\"T_bdb8377e_1c35_11ea_b7f8_dca904822558row3_col3\" class=\"data row3 col3\" >$4.32</td>\n",
       "            </tr>\n",
       "            <tr>\n",
       "                        <th id=\"T_bdb8377e_1c35_11ea_b7f8_dca904822558level0_row4\" class=\"row_heading level0 row4\" >25-29</th>\n",
       "                        <td id=\"T_bdb8377e_1c35_11ea_b7f8_dca904822558row4_col0\" class=\"data row4 col0\" >101</td>\n",
       "                        <td id=\"T_bdb8377e_1c35_11ea_b7f8_dca904822558row4_col1\" class=\"data row4 col1\" >$2.90</td>\n",
       "                        <td id=\"T_bdb8377e_1c35_11ea_b7f8_dca904822558row4_col2\" class=\"data row4 col2\" >$293.00</td>\n",
       "                        <td id=\"T_bdb8377e_1c35_11ea_b7f8_dca904822558row4_col3\" class=\"data row4 col3\" >$3.81</td>\n",
       "            </tr>\n",
       "            <tr>\n",
       "                        <th id=\"T_bdb8377e_1c35_11ea_b7f8_dca904822558level0_row5\" class=\"row_heading level0 row5\" >30-34</th>\n",
       "                        <td id=\"T_bdb8377e_1c35_11ea_b7f8_dca904822558row5_col0\" class=\"data row5 col0\" >73</td>\n",
       "                        <td id=\"T_bdb8377e_1c35_11ea_b7f8_dca904822558row5_col1\" class=\"data row5 col1\" >$2.93</td>\n",
       "                        <td id=\"T_bdb8377e_1c35_11ea_b7f8_dca904822558row5_col2\" class=\"data row5 col2\" >$214.00</td>\n",
       "                        <td id=\"T_bdb8377e_1c35_11ea_b7f8_dca904822558row5_col3\" class=\"data row5 col3\" >$4.12</td>\n",
       "            </tr>\n",
       "            <tr>\n",
       "                        <th id=\"T_bdb8377e_1c35_11ea_b7f8_dca904822558level0_row6\" class=\"row_heading level0 row6\" >35-39</th>\n",
       "                        <td id=\"T_bdb8377e_1c35_11ea_b7f8_dca904822558row6_col0\" class=\"data row6 col0\" >41</td>\n",
       "                        <td id=\"T_bdb8377e_1c35_11ea_b7f8_dca904822558row6_col1\" class=\"data row6 col1\" >$3.60</td>\n",
       "                        <td id=\"T_bdb8377e_1c35_11ea_b7f8_dca904822558row6_col2\" class=\"data row6 col2\" >$147.67</td>\n",
       "                        <td id=\"T_bdb8377e_1c35_11ea_b7f8_dca904822558row6_col3\" class=\"data row6 col3\" >$4.76</td>\n",
       "            </tr>\n",
       "            <tr>\n",
       "                        <th id=\"T_bdb8377e_1c35_11ea_b7f8_dca904822558level0_row7\" class=\"row_heading level0 row7\" >40+</th>\n",
       "                        <td id=\"T_bdb8377e_1c35_11ea_b7f8_dca904822558row7_col0\" class=\"data row7 col0\" >13</td>\n",
       "                        <td id=\"T_bdb8377e_1c35_11ea_b7f8_dca904822558row7_col1\" class=\"data row7 col1\" >$2.94</td>\n",
       "                        <td id=\"T_bdb8377e_1c35_11ea_b7f8_dca904822558row7_col2\" class=\"data row7 col2\" >$38.24</td>\n",
       "                        <td id=\"T_bdb8377e_1c35_11ea_b7f8_dca904822558row7_col3\" class=\"data row7 col3\" >$3.19</td>\n",
       "            </tr>\n",
       "    </tbody></table>"
      ],
      "text/plain": [
       "<pandas.io.formats.style.Styler at 0x1151cb6d0>"
      ]
     },
     "execution_count": 17,
     "metadata": {},
     "output_type": "execute_result"
    }
   ],
   "source": [
    "#age_bins = [0,9.90, 14.90, 19.90, 24.90, 29.90, 34.90, 39.90, 99999]\n",
    "#group_names = [\"<10\", \"10-14\", \"15-19\", \"20-24\", \"25-29\", \"30-34\", \"35-39\", \"40+\"]\n",
    "\n",
    "purchase_count_age = age_grouped[\"Purchase ID\"].count()\n",
    "\n",
    "avg_pprice_age = age_grouped[\"Price\"].mean()\n",
    "\n",
    "total_pvalue = age_grouped[\"Price\"].sum()\n",
    "\n",
    "avg_total_purchase_age = total_pvalue/total_count\n",
    "\n",
    "age_demo = pd.DataFrame({\"Purchase Count\": purchase_count_age,\n",
    "                        \"Average Purchase Price\": avg_pprice_age,\n",
    "                        \"Total Purchase Value\": total_pvalue,\n",
    "                        \"Avg Total Purchase per Person\" :avg_total_purchase_age})\n",
    "age_demo.index.name = None\n",
    "\n",
    "age_demo.style.format({\"Average Purchase Price\":\"${:.2f}\",\n",
    "                      \"Total Purchase Value\":\"${:.2f}\",\n",
    "                      \"Avg Total Purchase per Person\":\"${:.2f}\"})"
   ]
  },
  {
   "cell_type": "markdown",
   "metadata": {},
   "source": [
    "## Top Spenders"
   ]
  },
  {
   "cell_type": "markdown",
   "metadata": {},
   "source": [
    "* Run basic calculations to obtain the results in the table below\n",
    "\n",
    "\n",
    "* Create a summary data frame to hold the results\n",
    "\n",
    "\n",
    "* Sort the total purchase value column in descending order\n",
    "\n",
    "\n",
    "* Optional: give the displayed data cleaner formatting\n",
    "\n",
    "\n",
    "* Display a preview of the summary data frame\n",
    "\n"
   ]
  },
  {
   "cell_type": "code",
   "execution_count": 8,
   "metadata": {},
   "outputs": [
    {
     "data": {
      "text/html": [
       "<div>\n",
       "<style scoped>\n",
       "    .dataframe tbody tr th:only-of-type {\n",
       "        vertical-align: middle;\n",
       "    }\n",
       "\n",
       "    .dataframe tbody tr th {\n",
       "        vertical-align: top;\n",
       "    }\n",
       "\n",
       "    .dataframe thead th {\n",
       "        text-align: right;\n",
       "    }\n",
       "</style>\n",
       "<table border=\"1\" class=\"dataframe\">\n",
       "  <thead>\n",
       "    <tr style=\"text-align: right;\">\n",
       "      <th></th>\n",
       "      <th>Purchase Count</th>\n",
       "      <th>Average Purchase Price</th>\n",
       "      <th>Total Purchase Value</th>\n",
       "    </tr>\n",
       "    <tr>\n",
       "      <th>SN</th>\n",
       "      <th></th>\n",
       "      <th></th>\n",
       "      <th></th>\n",
       "    </tr>\n",
       "  </thead>\n",
       "  <tbody>\n",
       "    <tr>\n",
       "      <th>Lisosia93</th>\n",
       "      <td>5</td>\n",
       "      <td>$3.79</td>\n",
       "      <td>$18.96</td>\n",
       "    </tr>\n",
       "    <tr>\n",
       "      <th>Idastidru52</th>\n",
       "      <td>4</td>\n",
       "      <td>$3.86</td>\n",
       "      <td>$15.45</td>\n",
       "    </tr>\n",
       "    <tr>\n",
       "      <th>Chamjask73</th>\n",
       "      <td>3</td>\n",
       "      <td>$4.61</td>\n",
       "      <td>$13.83</td>\n",
       "    </tr>\n",
       "    <tr>\n",
       "      <th>Iral74</th>\n",
       "      <td>4</td>\n",
       "      <td>$3.40</td>\n",
       "      <td>$13.62</td>\n",
       "    </tr>\n",
       "    <tr>\n",
       "      <th>Iskadarya95</th>\n",
       "      <td>3</td>\n",
       "      <td>$4.37</td>\n",
       "      <td>$13.10</td>\n",
       "    </tr>\n",
       "  </tbody>\n",
       "</table>\n",
       "</div>"
      ],
      "text/plain": [
       "             Purchase Count Average Purchase Price Total Purchase Value\n",
       "SN                                                                     \n",
       "Lisosia93                 5                  $3.79               $18.96\n",
       "Idastidru52               4                  $3.86               $15.45\n",
       "Chamjask73                3                  $4.61               $13.83\n",
       "Iral74                    4                  $3.40               $13.62\n",
       "Iskadarya95               3                  $4.37               $13.10"
      ]
     },
     "execution_count": 8,
     "metadata": {},
     "output_type": "execute_result"
    }
   ],
   "source": [
    "top_spenders = purchase_data.groupby[\"SN\"]\n",
    "\n"
   ]
  },
  {
   "cell_type": "markdown",
   "metadata": {},
   "source": [
    "## Most Popular Items"
   ]
  },
  {
   "cell_type": "markdown",
   "metadata": {},
   "source": [
    "* Retrieve the Item ID, Item Name, and Item Price columns\n",
    "\n",
    "\n",
    "* Group by Item ID and Item Name. Perform calculations to obtain purchase count, item price, and total purchase value\n",
    "\n",
    "\n",
    "* Create a summary data frame to hold the results\n",
    "\n",
    "\n",
    "* Sort the purchase count column in descending order\n",
    "\n",
    "\n",
    "* Optional: give the displayed data cleaner formatting\n",
    "\n",
    "\n",
    "* Display a preview of the summary data frame\n",
    "\n"
   ]
  },
  {
   "cell_type": "code",
   "execution_count": 9,
   "metadata": {},
   "outputs": [
    {
     "data": {
      "text/html": [
       "<div>\n",
       "<style scoped>\n",
       "    .dataframe tbody tr th:only-of-type {\n",
       "        vertical-align: middle;\n",
       "    }\n",
       "\n",
       "    .dataframe tbody tr th {\n",
       "        vertical-align: top;\n",
       "    }\n",
       "\n",
       "    .dataframe thead th {\n",
       "        text-align: right;\n",
       "    }\n",
       "</style>\n",
       "<table border=\"1\" class=\"dataframe\">\n",
       "  <thead>\n",
       "    <tr style=\"text-align: right;\">\n",
       "      <th></th>\n",
       "      <th></th>\n",
       "      <th>Purchase Count</th>\n",
       "      <th>Item Price</th>\n",
       "      <th>Total Purchase Value</th>\n",
       "    </tr>\n",
       "    <tr>\n",
       "      <th>Item ID</th>\n",
       "      <th>Item Name</th>\n",
       "      <th></th>\n",
       "      <th></th>\n",
       "      <th></th>\n",
       "    </tr>\n",
       "  </thead>\n",
       "  <tbody>\n",
       "    <tr>\n",
       "      <th>178</th>\n",
       "      <th>Oathbreaker, Last Hope of the Breaking Storm</th>\n",
       "      <td>12</td>\n",
       "      <td>$4.23</td>\n",
       "      <td>$50.76</td>\n",
       "    </tr>\n",
       "    <tr>\n",
       "      <th>145</th>\n",
       "      <th>Fiery Glass Crusader</th>\n",
       "      <td>9</td>\n",
       "      <td>$4.58</td>\n",
       "      <td>$41.22</td>\n",
       "    </tr>\n",
       "    <tr>\n",
       "      <th>108</th>\n",
       "      <th>Extraction, Quickblade Of Trembling Hands</th>\n",
       "      <td>9</td>\n",
       "      <td>$3.53</td>\n",
       "      <td>$31.77</td>\n",
       "    </tr>\n",
       "    <tr>\n",
       "      <th>82</th>\n",
       "      <th>Nirvana</th>\n",
       "      <td>9</td>\n",
       "      <td>$4.90</td>\n",
       "      <td>$44.10</td>\n",
       "    </tr>\n",
       "    <tr>\n",
       "      <th>19</th>\n",
       "      <th>Pursuit, Cudgel of Necromancy</th>\n",
       "      <td>8</td>\n",
       "      <td>$1.02</td>\n",
       "      <td>$8.16</td>\n",
       "    </tr>\n",
       "  </tbody>\n",
       "</table>\n",
       "</div>"
      ],
      "text/plain": [
       "                                                     Purchase Count  \\\n",
       "Item ID Item Name                                                     \n",
       "178     Oathbreaker, Last Hope of the Breaking Storm             12   \n",
       "145     Fiery Glass Crusader                                      9   \n",
       "108     Extraction, Quickblade Of Trembling Hands                 9   \n",
       "82      Nirvana                                                   9   \n",
       "19      Pursuit, Cudgel of Necromancy                             8   \n",
       "\n",
       "                                                     Item Price  \\\n",
       "Item ID Item Name                                                 \n",
       "178     Oathbreaker, Last Hope of the Breaking Storm      $4.23   \n",
       "145     Fiery Glass Crusader                              $4.58   \n",
       "108     Extraction, Quickblade Of Trembling Hands         $3.53   \n",
       "82      Nirvana                                           $4.90   \n",
       "19      Pursuit, Cudgel of Necromancy                     $1.02   \n",
       "\n",
       "                                                     Total Purchase Value  \n",
       "Item ID Item Name                                                          \n",
       "178     Oathbreaker, Last Hope of the Breaking Storm               $50.76  \n",
       "145     Fiery Glass Crusader                                       $41.22  \n",
       "108     Extraction, Quickblade Of Trembling Hands                  $31.77  \n",
       "82      Nirvana                                                    $44.10  \n",
       "19      Pursuit, Cudgel of Necromancy                               $8.16  "
      ]
     },
     "execution_count": 9,
     "metadata": {},
     "output_type": "execute_result"
    }
   ],
   "source": []
  },
  {
   "cell_type": "markdown",
   "metadata": {},
   "source": [
    "## Most Profitable Items"
   ]
  },
  {
   "cell_type": "markdown",
   "metadata": {},
   "source": [
    "* Sort the above table by total purchase value in descending order\n",
    "\n",
    "\n",
    "* Optional: give the displayed data cleaner formatting\n",
    "\n",
    "\n",
    "* Display a preview of the data frame\n",
    "\n"
   ]
  },
  {
   "cell_type": "code",
   "execution_count": 10,
   "metadata": {
    "scrolled": true
   },
   "outputs": [
    {
     "data": {
      "text/html": [
       "<div>\n",
       "<style scoped>\n",
       "    .dataframe tbody tr th:only-of-type {\n",
       "        vertical-align: middle;\n",
       "    }\n",
       "\n",
       "    .dataframe tbody tr th {\n",
       "        vertical-align: top;\n",
       "    }\n",
       "\n",
       "    .dataframe thead th {\n",
       "        text-align: right;\n",
       "    }\n",
       "</style>\n",
       "<table border=\"1\" class=\"dataframe\">\n",
       "  <thead>\n",
       "    <tr style=\"text-align: right;\">\n",
       "      <th></th>\n",
       "      <th></th>\n",
       "      <th>Purchase Count</th>\n",
       "      <th>Item Price</th>\n",
       "      <th>Total Purchase Value</th>\n",
       "    </tr>\n",
       "    <tr>\n",
       "      <th>Item ID</th>\n",
       "      <th>Item Name</th>\n",
       "      <th></th>\n",
       "      <th></th>\n",
       "      <th></th>\n",
       "    </tr>\n",
       "  </thead>\n",
       "  <tbody>\n",
       "    <tr>\n",
       "      <th>178</th>\n",
       "      <th>Oathbreaker, Last Hope of the Breaking Storm</th>\n",
       "      <td>12</td>\n",
       "      <td>$4.23</td>\n",
       "      <td>$50.76</td>\n",
       "    </tr>\n",
       "    <tr>\n",
       "      <th>82</th>\n",
       "      <th>Nirvana</th>\n",
       "      <td>9</td>\n",
       "      <td>$4.90</td>\n",
       "      <td>$44.10</td>\n",
       "    </tr>\n",
       "    <tr>\n",
       "      <th>145</th>\n",
       "      <th>Fiery Glass Crusader</th>\n",
       "      <td>9</td>\n",
       "      <td>$4.58</td>\n",
       "      <td>$41.22</td>\n",
       "    </tr>\n",
       "    <tr>\n",
       "      <th>92</th>\n",
       "      <th>Final Critic</th>\n",
       "      <td>8</td>\n",
       "      <td>$4.88</td>\n",
       "      <td>$39.04</td>\n",
       "    </tr>\n",
       "    <tr>\n",
       "      <th>103</th>\n",
       "      <th>Singed Scalpel</th>\n",
       "      <td>8</td>\n",
       "      <td>$4.35</td>\n",
       "      <td>$34.80</td>\n",
       "    </tr>\n",
       "  </tbody>\n",
       "</table>\n",
       "</div>"
      ],
      "text/plain": [
       "                                                     Purchase Count  \\\n",
       "Item ID Item Name                                                     \n",
       "178     Oathbreaker, Last Hope of the Breaking Storm             12   \n",
       "82      Nirvana                                                   9   \n",
       "145     Fiery Glass Crusader                                      9   \n",
       "92      Final Critic                                              8   \n",
       "103     Singed Scalpel                                            8   \n",
       "\n",
       "                                                     Item Price  \\\n",
       "Item ID Item Name                                                 \n",
       "178     Oathbreaker, Last Hope of the Breaking Storm      $4.23   \n",
       "82      Nirvana                                           $4.90   \n",
       "145     Fiery Glass Crusader                              $4.58   \n",
       "92      Final Critic                                      $4.88   \n",
       "103     Singed Scalpel                                    $4.35   \n",
       "\n",
       "                                                     Total Purchase Value  \n",
       "Item ID Item Name                                                          \n",
       "178     Oathbreaker, Last Hope of the Breaking Storm               $50.76  \n",
       "82      Nirvana                                                    $44.10  \n",
       "145     Fiery Glass Crusader                                       $41.22  \n",
       "92      Final Critic                                               $39.04  \n",
       "103     Singed Scalpel                                             $34.80  "
      ]
     },
     "execution_count": 10,
     "metadata": {},
     "output_type": "execute_result"
    }
   ],
   "source": []
  }
 ],
 "metadata": {
  "anaconda-cloud": {},
  "kernel_info": {
   "name": "python3"
  },
  "kernelspec": {
   "display_name": "Python 3",
   "language": "python",
   "name": "python3"
  },
  "language_info": {
   "codemirror_mode": {
    "name": "ipython",
    "version": 3
   },
   "file_extension": ".py",
   "mimetype": "text/x-python",
   "name": "python",
   "nbconvert_exporter": "python",
   "pygments_lexer": "ipython3",
   "version": "3.7.4"
  },
  "latex_envs": {
   "LaTeX_envs_menu_present": true,
   "autoclose": false,
   "autocomplete": true,
   "bibliofile": "biblio.bib",
   "cite_by": "apalike",
   "current_citInitial": 1,
   "eqLabelWithNumbers": true,
   "eqNumInitial": 1,
   "hotkeys": {
    "equation": "Ctrl-E",
    "itemize": "Ctrl-I"
   },
   "labels_anchors": false,
   "latex_user_defs": false,
   "report_style_numbering": false,
   "user_envs_cfg": false
  },
  "nteract": {
   "version": "0.2.0"
  }
 },
 "nbformat": 4,
 "nbformat_minor": 4
}
